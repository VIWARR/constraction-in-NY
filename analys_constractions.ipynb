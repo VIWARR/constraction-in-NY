{
 "cells": [
  {
   "cell_type": "markdown",
   "id": "66291d4b-7e8b-4294-bcd0-c0c18e8b6ff1",
   "metadata": {},
   "source": [
    "# "
   ]
  },
  {
   "cell_type": "code",
   "execution_count": 3,
   "id": "a0279b80-2182-4757-a1db-acbb87ffb5b4",
   "metadata": {},
   "outputs": [],
   "source": [
    "import dask.dataframe as dd\n",
    "import numpy as np\n",
    "\n",
    "from colorcet import fire\n",
    "from matplotlib import pyplot as plt\n",
    "import datashader as ds\n",
    "import datashader.transfer_functions as tf\n",
    "\n",
    "from datashader.utils import lnglat_to_meters\n",
    "\n",
    "import geopandas as gpd"
   ]
  },
  {
   "cell_type": "code",
   "execution_count": 4,
   "id": "6ba73e3f-ddf2-4527-8948-904f49c08970",
   "metadata": {},
   "outputs": [
    {
     "data": {
      "text/html": [
       "<div>\n",
       "<style scoped>\n",
       "    .dataframe tbody tr th:only-of-type {\n",
       "        vertical-align: middle;\n",
       "    }\n",
       "\n",
       "    .dataframe tbody tr th {\n",
       "        vertical-align: top;\n",
       "    }\n",
       "\n",
       "    .dataframe thead th {\n",
       "        text-align: right;\n",
       "    }\n",
       "</style>\n",
       "<table border=\"1\" class=\"dataframe\">\n",
       "  <thead>\n",
       "    <tr style=\"text-align: right;\">\n",
       "      <th></th>\n",
       "      <th>Filing Date</th>\n",
       "      <th>LATITUDE</th>\n",
       "      <th>LONGITUDE</th>\n",
       "    </tr>\n",
       "  </thead>\n",
       "  <tbody>\n",
       "    <tr>\n",
       "      <th>0</th>\n",
       "      <td>05/10/2022</td>\n",
       "      <td>40.740909</td>\n",
       "      <td>-73.987947</td>\n",
       "    </tr>\n",
       "    <tr>\n",
       "      <th>1</th>\n",
       "      <td>05/10/2022</td>\n",
       "      <td>40.563654</td>\n",
       "      <td>-74.179584</td>\n",
       "    </tr>\n",
       "    <tr>\n",
       "      <th>2</th>\n",
       "      <td>05/10/2022</td>\n",
       "      <td>40.639633</td>\n",
       "      <td>-74.094169</td>\n",
       "    </tr>\n",
       "    <tr>\n",
       "      <th>3</th>\n",
       "      <td>05/10/2022</td>\n",
       "      <td>40.544597</td>\n",
       "      <td>-74.157153</td>\n",
       "    </tr>\n",
       "    <tr>\n",
       "      <th>4</th>\n",
       "      <td>05/10/2022</td>\n",
       "      <td>40.566798</td>\n",
       "      <td>-74.119726</td>\n",
       "    </tr>\n",
       "  </tbody>\n",
       "</table>\n",
       "</div>"
      ],
      "text/plain": [
       "  Filing Date   LATITUDE  LONGITUDE\n",
       "0  05/10/2022  40.740909 -73.987947\n",
       "1  05/10/2022  40.563654 -74.179584\n",
       "2  05/10/2022  40.639633 -74.094169\n",
       "3  05/10/2022  40.544597 -74.157153\n",
       "4  05/10/2022  40.566798 -74.119726"
      ]
     },
     "execution_count": 4,
     "metadata": {},
     "output_type": "execute_result"
    }
   ],
   "source": [
    "permits = dd.read_csv(\n",
    "    'DOB_Permit_Issuance.csv',\n",
    "    usecols=['Filing Date', 'LATITUDE', 'LONGITUDE'],\n",
    "    sep=','\n",
    ")\n",
    "permits.head()"
   ]
  },
  {
   "cell_type": "code",
   "execution_count": 5,
   "id": "abb83be2-59a1-4db1-95d3-ed602ee443cb",
   "metadata": {},
   "outputs": [
    {
     "data": {
      "text/html": [
       "<div>\n",
       "<style scoped>\n",
       "    .dataframe tbody tr th:only-of-type {\n",
       "        vertical-align: middle;\n",
       "    }\n",
       "\n",
       "    .dataframe tbody tr th {\n",
       "        vertical-align: top;\n",
       "    }\n",
       "\n",
       "    .dataframe thead th {\n",
       "        text-align: right;\n",
       "    }\n",
       "</style>\n",
       "<table border=\"1\" class=\"dataframe\">\n",
       "  <thead>\n",
       "    <tr style=\"text-align: right;\">\n",
       "      <th></th>\n",
       "      <th>Filing Date</th>\n",
       "      <th>LATITUDE</th>\n",
       "      <th>LONGITUDE</th>\n",
       "      <th>year</th>\n",
       "    </tr>\n",
       "  </thead>\n",
       "  <tbody>\n",
       "    <tr>\n",
       "      <th>0</th>\n",
       "      <td>2022-05-10</td>\n",
       "      <td>40.740909</td>\n",
       "      <td>-73.987947</td>\n",
       "      <td>2022</td>\n",
       "    </tr>\n",
       "    <tr>\n",
       "      <th>1</th>\n",
       "      <td>2022-05-10</td>\n",
       "      <td>40.563654</td>\n",
       "      <td>-74.179584</td>\n",
       "      <td>2022</td>\n",
       "    </tr>\n",
       "    <tr>\n",
       "      <th>2</th>\n",
       "      <td>2022-05-10</td>\n",
       "      <td>40.639633</td>\n",
       "      <td>-74.094169</td>\n",
       "      <td>2022</td>\n",
       "    </tr>\n",
       "    <tr>\n",
       "      <th>3</th>\n",
       "      <td>2022-05-10</td>\n",
       "      <td>40.544597</td>\n",
       "      <td>-74.157153</td>\n",
       "      <td>2022</td>\n",
       "    </tr>\n",
       "    <tr>\n",
       "      <th>4</th>\n",
       "      <td>2022-05-10</td>\n",
       "      <td>40.566798</td>\n",
       "      <td>-74.119726</td>\n",
       "      <td>2022</td>\n",
       "    </tr>\n",
       "  </tbody>\n",
       "</table>\n",
       "</div>"
      ],
      "text/plain": [
       "  Filing Date   LATITUDE  LONGITUDE  year\n",
       "0  2022-05-10  40.740909 -73.987947  2022\n",
       "1  2022-05-10  40.563654 -74.179584  2022\n",
       "2  2022-05-10  40.639633 -74.094169  2022\n",
       "3  2022-05-10  40.544597 -74.157153  2022\n",
       "4  2022-05-10  40.566798 -74.119726  2022"
      ]
     },
     "execution_count": 5,
     "metadata": {},
     "output_type": "execute_result"
    }
   ],
   "source": [
    "permits['Filing Date'] = dd.to_datetime(permits['Filing Date'])\n",
    "permits = permits.assign(year=permits['Filing Date'].dt.strftime('%Y'))\n",
    "permits.head()"
   ]
  },
  {
   "cell_type": "code",
   "execution_count": 6,
   "id": "a817bacf-ce6c-4d60-ac8f-97c02c2e3ef1",
   "metadata": {},
   "outputs": [
    {
     "data": {
      "text/html": [
       "<div>\n",
       "<style scoped>\n",
       "    .dataframe tbody tr th:only-of-type {\n",
       "        vertical-align: middle;\n",
       "    }\n",
       "\n",
       "    .dataframe tbody tr th {\n",
       "        vertical-align: top;\n",
       "    }\n",
       "\n",
       "    .dataframe thead th {\n",
       "        text-align: right;\n",
       "    }\n",
       "</style>\n",
       "<table border=\"1\" class=\"dataframe\">\n",
       "  <thead>\n",
       "    <tr style=\"text-align: right;\">\n",
       "      <th></th>\n",
       "      <th>Filing Date</th>\n",
       "      <th>year</th>\n",
       "      <th>x</th>\n",
       "      <th>y</th>\n",
       "    </tr>\n",
       "  </thead>\n",
       "  <tbody>\n",
       "    <tr>\n",
       "      <th>0</th>\n",
       "      <td>2022-05-10</td>\n",
       "      <td>2022</td>\n",
       "      <td>-8.236301e+06</td>\n",
       "      <td>4.974201e+06</td>\n",
       "    </tr>\n",
       "    <tr>\n",
       "      <th>1</th>\n",
       "      <td>2022-05-10</td>\n",
       "      <td>2022</td>\n",
       "      <td>-8.257634e+06</td>\n",
       "      <td>4.948192e+06</td>\n",
       "    </tr>\n",
       "    <tr>\n",
       "      <th>2</th>\n",
       "      <td>2022-05-10</td>\n",
       "      <td>2022</td>\n",
       "      <td>-8.248125e+06</td>\n",
       "      <td>4.959332e+06</td>\n",
       "    </tr>\n",
       "    <tr>\n",
       "      <th>3</th>\n",
       "      <td>2022-05-10</td>\n",
       "      <td>2022</td>\n",
       "      <td>-8.255137e+06</td>\n",
       "      <td>4.945400e+06</td>\n",
       "    </tr>\n",
       "    <tr>\n",
       "      <th>4</th>\n",
       "      <td>2022-05-10</td>\n",
       "      <td>2022</td>\n",
       "      <td>-8.250970e+06</td>\n",
       "      <td>4.948653e+06</td>\n",
       "    </tr>\n",
       "  </tbody>\n",
       "</table>\n",
       "</div>"
      ],
      "text/plain": [
       "  Filing Date  year             x             y\n",
       "0  2022-05-10  2022 -8.236301e+06  4.974201e+06\n",
       "1  2022-05-10  2022 -8.257634e+06  4.948192e+06\n",
       "2  2022-05-10  2022 -8.248125e+06  4.959332e+06\n",
       "3  2022-05-10  2022 -8.255137e+06  4.945400e+06\n",
       "4  2022-05-10  2022 -8.250970e+06  4.948653e+06"
      ]
     },
     "execution_count": 6,
     "metadata": {},
     "output_type": "execute_result"
    }
   ],
   "source": [
    "permits['x'], permits['y'] = lnglat_to_meters(permits['LONGITUDE'], permits['LATITUDE'])\n",
    "permits = permits.drop(['LONGITUDE', 'LATITUDE'], axis=1)\n",
    "permits.head()"
   ]
  },
  {
   "cell_type": "code",
   "execution_count": 7,
   "id": "9d13f5af-f98f-4bbb-bc0f-ca84811d0ccf",
   "metadata": {},
   "outputs": [],
   "source": [
    "permits = permits.dropna()"
   ]
  },
  {
   "cell_type": "code",
   "execution_count": 10,
   "id": "0d7ff860-a8aa-43bc-ae5d-c0d4e1e69cd7",
   "metadata": {},
   "outputs": [],
   "source": [
    "import scipy.stats as st\n",
    "x = [3.2, 5.1, 4.3, 6.7, 7.9, 4.8, 5.6, 6.2, 5.9]\n",
    "y = [2.9, 4.5, 6.1, 5.8, 4.2, 5.3, 4.7, 6.5, 6.8]\n",
    "data = [150, 130, 140, 160, 180, 170, 190, 200, 175, 165]"
   ]
  },
  {
   "cell_type": "code",
   "execution_count": 15,
   "id": "4024dc73-ff0d-4427-bcf0-c8eea633864c",
   "metadata": {},
   "outputs": [
    {
     "data": {
      "text/plain": [
       "(150.38182928831, 181.61817071169)"
      ]
     },
     "execution_count": 15,
     "metadata": {},
     "output_type": "execute_result"
    }
   ],
   "source": [
    "st.mannwhitneyu(x, y)\n",
    "st.t.interval(confidence=0.95, df=len(data)-1, loc=np.mean(data), scale=st.sem(data))"
   ]
  },
  {
   "cell_type": "code",
   "execution_count": null,
   "id": "2946779e-a363-48de-a69d-afaf73de10c5",
   "metadata": {},
   "outputs": [],
   "source": []
  },
  {
   "cell_type": "code",
   "execution_count": null,
   "id": "6edc2b10-0046-497e-a7a8-e190c988bbbd",
   "metadata": {},
   "outputs": [],
   "source": []
  },
  {
   "cell_type": "code",
   "execution_count": null,
   "id": "2aaae8e7-c621-42a8-ab66-126e81efed7b",
   "metadata": {},
   "outputs": [],
   "source": []
  },
  {
   "cell_type": "code",
   "execution_count": null,
   "id": "5a8182ac-bcba-4e33-bac7-821e481a79bd",
   "metadata": {},
   "outputs": [],
   "source": []
  }
 ],
 "metadata": {
  "kernelspec": {
   "display_name": "Python 3 (ipykernel)",
   "language": "python",
   "name": "python3"
  },
  "language_info": {
   "codemirror_mode": {
    "name": "ipython",
    "version": 3
   },
   "file_extension": ".py",
   "mimetype": "text/x-python",
   "name": "python",
   "nbconvert_exporter": "python",
   "pygments_lexer": "ipython3",
   "version": "3.11.2"
  }
 },
 "nbformat": 4,
 "nbformat_minor": 5
}
