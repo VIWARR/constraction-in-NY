{
 "cells": [
  {
   "cell_type": "code",
   "execution_count": 2,
   "id": "9bc2ceed-e973-42b3-b571-e041df751837",
   "metadata": {},
   "outputs": [],
   "source": [
    "import dask.dataframe as dd\n",
    "import numpy as np\n",
    "\n",
    "from colorcet import fire\n",
    "from matplotlib import pyplot as plt\n",
    "import datashader as ds\n",
    "import datashader.transfer_functions as tf\n",
    "\n",
    "from datashader.utils import lnglat_to_meters\n",
    "\n",
    "import geopandas as gpd"
   ]
  },
  {
   "cell_type": "code",
   "execution_count": 21,
   "id": "bbf14b78-3bcc-4533-9106-797a10d765e7",
   "metadata": {},
   "outputs": [
    {
     "data": {
      "text/html": [
       "<div>\n",
       "<style scoped>\n",
       "    .dataframe tbody tr th:only-of-type {\n",
       "        vertical-align: middle;\n",
       "    }\n",
       "\n",
       "    .dataframe tbody tr th {\n",
       "        vertical-align: top;\n",
       "    }\n",
       "\n",
       "    .dataframe thead th {\n",
       "        text-align: right;\n",
       "    }\n",
       "</style>\n",
       "<table border=\"1\" class=\"dataframe\">\n",
       "  <thead>\n",
       "    <tr style=\"text-align: right;\">\n",
       "      <th></th>\n",
       "      <th>Filing Date</th>\n",
       "      <th>LATITUDE</th>\n",
       "      <th>LONGITUDE</th>\n",
       "    </tr>\n",
       "  </thead>\n",
       "  <tbody>\n",
       "    <tr>\n",
       "      <th>0</th>\n",
       "      <td>05/10/2022</td>\n",
       "      <td>40.740909</td>\n",
       "      <td>-73.987947</td>\n",
       "    </tr>\n",
       "    <tr>\n",
       "      <th>1</th>\n",
       "      <td>05/10/2022</td>\n",
       "      <td>40.563654</td>\n",
       "      <td>-74.179584</td>\n",
       "    </tr>\n",
       "    <tr>\n",
       "      <th>2</th>\n",
       "      <td>05/10/2022</td>\n",
       "      <td>40.639633</td>\n",
       "      <td>-74.094169</td>\n",
       "    </tr>\n",
       "    <tr>\n",
       "      <th>3</th>\n",
       "      <td>05/10/2022</td>\n",
       "      <td>40.544597</td>\n",
       "      <td>-74.157153</td>\n",
       "    </tr>\n",
       "    <tr>\n",
       "      <th>4</th>\n",
       "      <td>05/10/2022</td>\n",
       "      <td>40.566798</td>\n",
       "      <td>-74.119726</td>\n",
       "    </tr>\n",
       "  </tbody>\n",
       "</table>\n",
       "</div>"
      ],
      "text/plain": [
       "  Filing Date   LATITUDE  LONGITUDE\n",
       "0  05/10/2022  40.740909 -73.987947\n",
       "1  05/10/2022  40.563654 -74.179584\n",
       "2  05/10/2022  40.639633 -74.094169\n",
       "3  05/10/2022  40.544597 -74.157153\n",
       "4  05/10/2022  40.566798 -74.119726"
      ]
     },
     "execution_count": 21,
     "metadata": {},
     "output_type": "execute_result"
    }
   ],
   "source": [
    "permits = dd.read_csv(\n",
    "    'DOB_Permit_Issuance.csv',\n",
    "    usecols=['Filing Date', 'LATITUDE', 'LONGITUDE'],\n",
    "    sep=','\n",
    ")\n",
    "permits.head()"
   ]
  },
  {
   "cell_type": "code",
   "execution_count": 27,
   "id": "a24644e7-e45d-4a27-97ee-8e7f92098316",
   "metadata": {},
   "outputs": [
    {
     "data": {
      "text/html": [
       "<div>\n",
       "<style scoped>\n",
       "    .dataframe tbody tr th:only-of-type {\n",
       "        vertical-align: middle;\n",
       "    }\n",
       "\n",
       "    .dataframe tbody tr th {\n",
       "        vertical-align: top;\n",
       "    }\n",
       "\n",
       "    .dataframe thead th {\n",
       "        text-align: right;\n",
       "    }\n",
       "</style>\n",
       "<table border=\"1\" class=\"dataframe\">\n",
       "  <thead>\n",
       "    <tr style=\"text-align: right;\">\n",
       "      <th></th>\n",
       "      <th>Filing Date</th>\n",
       "      <th>LATITUDE</th>\n",
       "      <th>LONGITUDE</th>\n",
       "    </tr>\n",
       "  </thead>\n",
       "  <tbody>\n",
       "    <tr>\n",
       "      <th>0</th>\n",
       "      <td>2022-05-10</td>\n",
       "      <td>40.740909</td>\n",
       "      <td>-73.987947</td>\n",
       "    </tr>\n",
       "    <tr>\n",
       "      <th>1</th>\n",
       "      <td>2022-05-10</td>\n",
       "      <td>40.563654</td>\n",
       "      <td>-74.179584</td>\n",
       "    </tr>\n",
       "    <tr>\n",
       "      <th>2</th>\n",
       "      <td>2022-05-10</td>\n",
       "      <td>40.639633</td>\n",
       "      <td>-74.094169</td>\n",
       "    </tr>\n",
       "    <tr>\n",
       "      <th>3</th>\n",
       "      <td>2022-05-10</td>\n",
       "      <td>40.544597</td>\n",
       "      <td>-74.157153</td>\n",
       "    </tr>\n",
       "    <tr>\n",
       "      <th>4</th>\n",
       "      <td>2022-05-10</td>\n",
       "      <td>40.566798</td>\n",
       "      <td>-74.119726</td>\n",
       "    </tr>\n",
       "  </tbody>\n",
       "</table>\n",
       "</div>"
      ],
      "text/plain": [
       "  Filing Date   LATITUDE  LONGITUDE\n",
       "0  2022-05-10  40.740909 -73.987947\n",
       "1  2022-05-10  40.563654 -74.179584\n",
       "2  2022-05-10  40.639633 -74.094169\n",
       "3  2022-05-10  40.544597 -74.157153\n",
       "4  2022-05-10  40.566798 -74.119726"
      ]
     },
     "execution_count": 27,
     "metadata": {},
     "output_type": "execute_result"
    }
   ],
   "source": [
    "permits['Filing Date'] = dd.to_datetime(permits['Filing Date'], format='%Y%m%d')\n",
    "permits.head()"
   ]
  },
  {
   "cell_type": "code",
   "execution_count": 28,
   "id": "a1e10d3c-cd23-4002-8093-dcc7b7905d9f",
   "metadata": {},
   "outputs": [
    {
     "data": {
      "text/html": [
       "<div>\n",
       "<style scoped>\n",
       "    .dataframe tbody tr th:only-of-type {\n",
       "        vertical-align: middle;\n",
       "    }\n",
       "\n",
       "    .dataframe tbody tr th {\n",
       "        vertical-align: top;\n",
       "    }\n",
       "\n",
       "    .dataframe thead th {\n",
       "        text-align: right;\n",
       "    }\n",
       "</style>\n",
       "<table border=\"1\" class=\"dataframe\">\n",
       "  <thead>\n",
       "    <tr style=\"text-align: right;\">\n",
       "      <th></th>\n",
       "      <th>Filing Date</th>\n",
       "      <th>LATITUDE</th>\n",
       "      <th>LONGITUDE</th>\n",
       "      <th>year</th>\n",
       "    </tr>\n",
       "  </thead>\n",
       "  <tbody>\n",
       "    <tr>\n",
       "      <th>0</th>\n",
       "      <td>2022-05-10</td>\n",
       "      <td>40.740909</td>\n",
       "      <td>-73.987947</td>\n",
       "      <td>2022</td>\n",
       "    </tr>\n",
       "    <tr>\n",
       "      <th>1</th>\n",
       "      <td>2022-05-10</td>\n",
       "      <td>40.563654</td>\n",
       "      <td>-74.179584</td>\n",
       "      <td>2022</td>\n",
       "    </tr>\n",
       "    <tr>\n",
       "      <th>2</th>\n",
       "      <td>2022-05-10</td>\n",
       "      <td>40.639633</td>\n",
       "      <td>-74.094169</td>\n",
       "      <td>2022</td>\n",
       "    </tr>\n",
       "    <tr>\n",
       "      <th>3</th>\n",
       "      <td>2022-05-10</td>\n",
       "      <td>40.544597</td>\n",
       "      <td>-74.157153</td>\n",
       "      <td>2022</td>\n",
       "    </tr>\n",
       "    <tr>\n",
       "      <th>4</th>\n",
       "      <td>2022-05-10</td>\n",
       "      <td>40.566798</td>\n",
       "      <td>-74.119726</td>\n",
       "      <td>2022</td>\n",
       "    </tr>\n",
       "  </tbody>\n",
       "</table>\n",
       "</div>"
      ],
      "text/plain": [
       "  Filing Date   LATITUDE  LONGITUDE  year\n",
       "0  2022-05-10  40.740909 -73.987947  2022\n",
       "1  2022-05-10  40.563654 -74.179584  2022\n",
       "2  2022-05-10  40.639633 -74.094169  2022\n",
       "3  2022-05-10  40.544597 -74.157153  2022\n",
       "4  2022-05-10  40.566798 -74.119726  2022"
      ]
     },
     "execution_count": 28,
     "metadata": {},
     "output_type": "execute_result"
    }
   ],
   "source": [
    "permits = permits.assign(year=permits['Filing Date'].dt.strftime('%Y'))\n",
    "permits.head()"
   ]
  },
  {
   "cell_type": "code",
   "execution_count": null,
   "id": "558391d1-2eb4-4980-8b01-819208538e8c",
   "metadata": {},
   "outputs": [],
   "source": []
  },
  {
   "cell_type": "code",
   "execution_count": null,
   "id": "2f5c68f8-15af-42fb-a5fb-b644b893e49c",
   "metadata": {},
   "outputs": [],
   "source": []
  },
  {
   "cell_type": "code",
   "execution_count": null,
   "id": "3c661e43-5d95-4949-8bf6-b40ac083757b",
   "metadata": {},
   "outputs": [],
   "source": []
  },
  {
   "cell_type": "code",
   "execution_count": null,
   "id": "291b1062-61bc-4281-b3e8-5b05f1a5ba6d",
   "metadata": {},
   "outputs": [],
   "source": []
  },
  {
   "cell_type": "code",
   "execution_count": null,
   "id": "86929052-233d-4ecc-9888-70670acf068f",
   "metadata": {},
   "outputs": [],
   "source": []
  },
  {
   "cell_type": "code",
   "execution_count": null,
   "id": "86ef028b-75d6-4222-98df-fdae053b92d5",
   "metadata": {},
   "outputs": [],
   "source": []
  },
  {
   "cell_type": "code",
   "execution_count": null,
   "id": "86c7d3ca-e1be-4109-9233-f951febe81a3",
   "metadata": {},
   "outputs": [],
   "source": []
  },
  {
   "cell_type": "code",
   "execution_count": null,
   "id": "7989a840-209f-4224-8761-18cfb11279c4",
   "metadata": {},
   "outputs": [],
   "source": []
  },
  {
   "cell_type": "code",
   "execution_count": null,
   "id": "cb8d8150-babf-4af6-b54f-3b8741c05baf",
   "metadata": {},
   "outputs": [],
   "source": []
  },
  {
   "cell_type": "code",
   "execution_count": null,
   "id": "564c0b75-f2a3-48a7-8155-3b9742b4b9eb",
   "metadata": {},
   "outputs": [],
   "source": []
  },
  {
   "cell_type": "code",
   "execution_count": null,
   "id": "2aecf6de-ba05-41d7-af05-4d39ba19d474",
   "metadata": {},
   "outputs": [],
   "source": []
  }
 ],
 "metadata": {
  "kernelspec": {
   "display_name": "Python 3 (ipykernel)",
   "language": "python",
   "name": "python3"
  },
  "language_info": {
   "codemirror_mode": {
    "name": "ipython",
    "version": 3
   },
   "file_extension": ".py",
   "mimetype": "text/x-python",
   "name": "python",
   "nbconvert_exporter": "python",
   "pygments_lexer": "ipython3",
   "version": "3.11.2"
  }
 },
 "nbformat": 4,
 "nbformat_minor": 5
}
